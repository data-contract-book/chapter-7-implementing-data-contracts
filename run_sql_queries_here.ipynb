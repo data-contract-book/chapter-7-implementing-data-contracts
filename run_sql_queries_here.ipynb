{
 "cells": [
  {
   "cell_type": "markdown",
   "id": "99a8facc",
   "metadata": {},
   "source": [
    "# Run SQL Queries Here\n",
    "\n",
    "Simple notebook to help you quickly explore the postgres database.\n",
    "\n",
    "### Steps:\n",
    "\n",
    "1. Run the below cell and the helper function will connect to postgres and return the results available tables.\n",
    "2. Use subsequent notebook cells to explore the database with your own sql queries.\n",
    "  \n",
    "  \n",
    "\n",
    "> NOTE: If prompted to select a kernal in GitHub codespaces, please select `/usr/local/bin/python`"
   ]
  },
  {
   "cell_type": "code",
   "execution_count": null,
   "id": "390ff418",
   "metadata": {},
   "outputs": [],
   "source": [
    "from data_contract_components.data_assets._query_postgres_helper import PostgresDB\n",
    "import pandas as pd\n",
    "\n",
    "# setup display to show all columns\n",
    "pd.set_option('display.max_columns', None)\n",
    "pd.set_option('display.width', None)\n",
    "\n",
    "# setup postgres connection\n",
    "sql = PostgresDB()\n",
    "sql.query(\"SELECT table_name FROM information_schema.tables WHERE table_schema = 'public'\")"
   ]
  },
  {
   "cell_type": "code",
   "execution_count": null,
   "id": "ffb467a3",
   "metadata": {},
   "outputs": [],
   "source": [
    "sql_query_str = \"\"\"\n",
    "YOUR QUERY HERE;\n",
    "\"\"\"\n",
    "sql.query(sql_query_str)"
   ]
  }
 ],
 "metadata": {
  "kernelspec": {
   "display_name": "Python 3",
   "language": "python",
   "name": "python3"
  },
  "language_info": {
   "codemirror_mode": {
    "name": "ipython",
    "version": 3
   },
   "file_extension": ".py",
   "mimetype": "text/x-python",
   "name": "python",
   "nbconvert_exporter": "python",
   "pygments_lexer": "ipython3",
   "version": "3.12.11"
  }
 },
 "nbformat": 4,
 "nbformat_minor": 5
}
